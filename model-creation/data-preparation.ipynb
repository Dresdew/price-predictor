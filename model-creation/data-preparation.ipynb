{
 "cells": [
  {
   "cell_type": "code",
   "execution_count": 11,
   "metadata": {},
   "outputs": [],
   "source": [
    "import numpy as np\n",
    "import pandas as pd\n",
    "import json\n",
    "from typing import List, Dict, Callable\n"
   ]
  },
  {
   "cell_type": "code",
   "execution_count": 19,
   "metadata": {},
   "outputs": [],
   "source": [
    "with open('features.json') as f:\n",
    "    feature_list = json.loads(f.read())\n",
    "    features = {f['key']: f for f in feature_list}\n"
   ]
  },
  {
   "cell_type": "code",
   "execution_count": 37,
   "metadata": {},
   "outputs": [],
   "source": [
    "raw_dataset = pd.read_pickle(\"./ad.pkl\")\n",
    "dataset = raw_dataset.copy()\n"
   ]
  },
  {
   "cell_type": "code",
   "execution_count": 38,
   "metadata": {},
   "outputs": [],
   "source": [
    "dataset = dataset.dropna()\n"
   ]
  },
  {
   "cell_type": "code",
   "execution_count": 39,
   "metadata": {},
   "outputs": [],
   "source": [
    "def convert_numeric(feature: Dict) -> Callable[[str], int]:\n",
    "    def convert(text: str):\n",
    "        unit = feature.get('unit', \"\")\n",
    "        return np.int(text.replace(unit, \"\").replace(\" \", \"\"))\n",
    "    return convert\n",
    "\n",
    "\n",
    "for key, feature in features.items():\n",
    "    if feature['type'] == 'numeric':\n",
    "        dataset[key] = dataset[key].map(\n",
    "            convert_numeric(feature))\n"
   ]
  },
  {
   "cell_type": "code",
   "execution_count": 40,
   "metadata": {},
   "outputs": [],
   "source": [
    "dataset['PRICE'] = dataset['PRICE'].map(lambda p: p//1_000_000)\n"
   ]
  },
  {
   "cell_type": "code",
   "execution_count": 41,
   "metadata": {},
   "outputs": [],
   "source": [
    "def validate_data(dataset: pd.DataFrame, feature: Dict) -> None:\n",
    "    key, type = feature['key'], feature['type']\n",
    "\n",
    "    def feature_filter_generator():\n",
    "        if type == 'numeric':\n",
    "            return lambda v: feature['min'] < v < feature['max']\n",
    "        elif type == 'enum':\n",
    "            return lambda v: v in feature['values']\n",
    "    feature_filter = feature_filter_generator()\n",
    "    return dataset[dataset[key].map(feature_filter)]\n",
    "\n",
    "for feature in features.values():\n",
    "    dataset = validate_data(dataset = dataset, feature = feature)"
   ]
  },
  {
   "cell_type": "code",
   "execution_count": 46,
   "metadata": {},
   "outputs": [],
   "source": [
    "enum_feature_columns = [f['key'] for f in features.values() if f['type'] == 'enum']\n",
    "dataset = pd.get_dummies(dataset, columns=enum_feature_columns, prefix='', prefix_sep='')"
   ]
  }
 ],
 "metadata": {
  "interpreter": {
   "hash": "916dbcbb3f70747c44a77c7bcd40155683ae19c65e1c03b4aa3499c5328201f1"
  },
  "kernelspec": {
   "display_name": "Python 3.8.10 64-bit",
   "language": "python",
   "name": "python3"
  },
  "language_info": {
   "codemirror_mode": {
    "name": "ipython",
    "version": 3
   },
   "file_extension": ".py",
   "mimetype": "text/x-python",
   "name": "python",
   "nbconvert_exporter": "python",
   "pygments_lexer": "ipython3",
   "version": "3.8.10"
  },
  "orig_nbformat": 4
 },
 "nbformat": 4,
 "nbformat_minor": 2
}
